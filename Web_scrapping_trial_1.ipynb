{
  "nbformat": 4,
  "nbformat_minor": 0,
  "metadata": {
    "colab": {
      "provenance": []
    },
    "kernelspec": {
      "name": "python3",
      "display_name": "Python 3"
    },
    "language_info": {
      "name": "python"
    }
  },
  "cells": [
    {
      "cell_type": "code",
      "execution_count": null,
      "metadata": {
        "id": "NyPwp7nDiP0T",
        "colab": {
          "base_uri": "https://localhost:8080/"
        },
        "outputId": "30377d17-5f91-4779-9f92-767e2a7670ef"
      },
      "outputs": [
        {
          "output_type": "stream",
          "name": "stdout",
          "text": [
            "Requirement already satisfied: requests in /usr/local/lib/python3.11/dist-packages (2.32.3)\n",
            "Requirement already satisfied: BeautifulSoup4 in /usr/local/lib/python3.11/dist-packages (4.12.3)\n",
            "Requirement already satisfied: pandas in /usr/local/lib/python3.11/dist-packages (2.2.2)\n",
            "Requirement already satisfied: charset-normalizer<4,>=2 in /usr/local/lib/python3.11/dist-packages (from requests) (3.4.1)\n",
            "Requirement already satisfied: idna<4,>=2.5 in /usr/local/lib/python3.11/dist-packages (from requests) (3.10)\n",
            "Requirement already satisfied: urllib3<3,>=1.21.1 in /usr/local/lib/python3.11/dist-packages (from requests) (2.3.0)\n",
            "Requirement already satisfied: certifi>=2017.4.17 in /usr/local/lib/python3.11/dist-packages (from requests) (2024.12.14)\n",
            "Requirement already satisfied: soupsieve>1.2 in /usr/local/lib/python3.11/dist-packages (from BeautifulSoup4) (2.6)\n",
            "Requirement already satisfied: numpy>=1.23.2 in /usr/local/lib/python3.11/dist-packages (from pandas) (1.26.4)\n",
            "Requirement already satisfied: python-dateutil>=2.8.2 in /usr/local/lib/python3.11/dist-packages (from pandas) (2.8.2)\n",
            "Requirement already satisfied: pytz>=2020.1 in /usr/local/lib/python3.11/dist-packages (from pandas) (2024.2)\n",
            "Requirement already satisfied: tzdata>=2022.7 in /usr/local/lib/python3.11/dist-packages (from pandas) (2024.2)\n",
            "Requirement already satisfied: six>=1.5 in /usr/local/lib/python3.11/dist-packages (from python-dateutil>=2.8.2->pandas) (1.17.0)\n",
            "Product_Name: A Light in the Attic\n",
            "Product_Price: Â£51.77\n",
            "Product_Name: Tipping the Velvet\n",
            "Product_Price: Â£53.74\n",
            "Product_Name: Soumission\n",
            "Product_Price: Â£50.10\n",
            "Product_Name: Sharp Objects\n",
            "Product_Price: Â£47.82\n",
            "Product_Name: Sapiens: A Brief History of Humankind\n",
            "Product_Price: Â£54.23\n",
            "Product_Name: The Requiem Red\n",
            "Product_Price: Â£22.65\n",
            "Product_Name: The Dirty Little Secrets of Getting Your Dream Job\n",
            "Product_Price: Â£33.34\n",
            "Product_Name: The Coming Woman: A Novel Based on the Life of the Infamous Feminist, Victoria Woodhull\n",
            "Product_Price: Â£17.93\n",
            "Product_Name: The Boys in the Boat: Nine Americans and Their Epic Quest for Gold at the 1936 Berlin Olympics\n",
            "Product_Price: Â£22.60\n",
            "Product_Name: The Black Maria\n",
            "Product_Price: Â£52.15\n",
            "Product_Name: Starving Hearts (Triangular Trade Trilogy, #1)\n",
            "Product_Price: Â£13.99\n",
            "Product_Name: Shakespeare's Sonnets\n",
            "Product_Price: Â£20.66\n",
            "Product_Name: Set Me Free\n",
            "Product_Price: Â£17.46\n",
            "Product_Name: Scott Pilgrim's Precious Little Life (Scott Pilgrim #1)\n",
            "Product_Price: Â£52.29\n",
            "Product_Name: Rip it Up and Start Again\n",
            "Product_Price: Â£35.02\n",
            "Product_Name: Our Band Could Be Your Life: Scenes from the American Indie Underground, 1981-1991\n",
            "Product_Price: Â£57.25\n",
            "Product_Name: Olio\n",
            "Product_Price: Â£23.88\n",
            "Product_Name: Mesaerion: The Best Science Fiction Stories 1800-1849\n",
            "Product_Price: Â£37.59\n",
            "Product_Name: Libertarianism for Beginners\n",
            "Product_Price: Â£51.33\n",
            "Product_Name: It's Only the Himalayas\n",
            "Product_Price: Â£45.17\n"
          ]
        }
      ],
      "source": [
        "!pip install requests BeautifulSoup4 pandas\n",
        "import requests\n",
        "from bs4 import BeautifulSoup\n",
        "import pandas as pd\n",
        "\n",
        "URL = \"https://books.toscrape.com/\"\n",
        "response = requests.get(URL)\n",
        "soup = BeautifulSoup(response.text, \"html.parser\")\n",
        "listings = soup.find_all(class_=\"col-xs-6 col-sm-4 col-md-3 col-lg-3\")\n",
        "books = []\n",
        "for listing in listings:\n",
        "    product_name = listing.find(\"article\").find(\"h3\").a.attrs.get(\"title\")\n",
        "    product_price = listing.find(\"div\", class_=\"product_price\").p.text\n",
        "    print(f\"Product_Name: {product_name}\")\n",
        "    print(f\"Product_Price: {product_price}\")\n",
        "    books.append({\n",
        "        \"BookName\": product_name,\n",
        "        \"Price\": product_price\n",
        "    })\n",
        "df = pd.DataFrame(books)\n",
        "df.to_csv(\"books.csv\", index=False)"
      ]
    }
  ]
}